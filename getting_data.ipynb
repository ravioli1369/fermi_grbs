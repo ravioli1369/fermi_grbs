{
 "cells": [
  {
   "cell_type": "code",
   "execution_count": 2,
   "metadata": {},
   "outputs": [],
   "source": [
    "import re\n",
    "import os\n",
    "import requests\n",
    "import subprocess as sp\n",
    "import pandas as pd\n",
    "import numpy as np\n",
    "import pandas as pd\n",
    "from bs4 import BeautifulSoup"
   ]
  },
  {
   "cell_type": "code",
   "execution_count": 3,
   "metadata": {},
   "outputs": [],
   "source": [
    "#redownload some files with code 31744\n"
   ]
  },
  {
   "cell_type": "code",
   "execution_count": 5,
   "metadata": {},
   "outputs": [],
   "source": [
    "#find entries which have healpix or locmap\n",
    "data = pd.DataFrame(pd.read_csv(\"/home/ravioli/astro/git/fermi_grbs/data_status.csv\"))\n",
    "triggers = pd.DataFrame(pd.read_csv(\"/home/ravioli/astro/git/fermi_grbs/u_triggers.csv\"))\n",
    "with open(\"/home/ravioli/astro/git/fermi_grbs/u_triggers_with_probs.csv\", \"w\") as f:\n",
    "    for i in range(len(data)):\n",
    "        if (data['healpix'].values[i] != '2048' and data['healpix'].values[i] != 'None') or (data['locmap'].values[i] != '2048' and data['healpix'].values[i] != 'None'):\n",
    "            url = triggers['url'].values[np.where(triggers['trigger_no'].values == data['Trig_no'].values[i])[0][0]]\n",
    "            f.write(f\"{url},{data['GRBName'].values[i]},{data['Trig_no'].values[i]},{data['healpix'].values[i]},{data['locmap'].values[i]}\\n\")\n",
    "    f.close()"
   ]
  },
  {
   "cell_type": "code",
   "execution_count": 8,
   "metadata": {},
   "outputs": [],
   "source": [
    "# #downloading all healpix and locprob files\n",
    "# df = pd.DataFrame(pd.read_csv(\"/home/ravioli/astro/git/fermi_grbs/u_triggers.csv\"))\n",
    "\n",
    "# with open(\"data_status.csv\", \"a\") as f:\n",
    "#     os.chdir(\"/home/ravioli/astro/git/fermi_grbs/data/\")\n",
    "#     for url, trigger in zip(df['url'].values, df['trigger_no'].values):\n",
    "#         if url != \"None\":\n",
    "#             print(url)\n",
    "#             grb = url.split(\"/\")[-3]\n",
    "#             healpix = f\"{url}glg_healpix_all_{grb}.fit\"\n",
    "#             locprob = f\"{url}glg_locprob_all_{grb}.fit\"\n",
    "#             r_healpix = int(os.system(f\"timeout 20s wget -nc {healpix}\"))\n",
    "#             r_locprob = int(os.system(f\"timeout 20s wget -nc {locprob}\"))\n",
    "#             if not (r_healpix in [0,2048,256] or r_locprob in [0,2048,256]):\n",
    "#                 print(\"Downloading again\")\n",
    "#                 print(url)\n",
    "#                 r_healpix = os.system(f\"timeout 20 wget -nc {healpix}\")\n",
    "#                 r_locprob = os.system(f\"timeout 20 wget -nc {locprob}\")\n",
    "#             f.write(f\"{grb},{trigger},{r_healpix},{r_locprob}\\n\")\n",
    "#             # print(f\"{grb},{trigger},{r_healpix},{r_locprob}\")\n",
    "#         else:\n",
    "#             print(url)\n",
    "#             f.write(f\"{None},{trigger},{None},{None}\\n\")\n",
    "\n",
    "# f.close()"
   ]
  },
  {
   "cell_type": "code",
   "execution_count": 8,
   "metadata": {},
   "outputs": [
    {
     "name": "stdout",
     "output_type": "stream",
     "text": [
      "Trigger 508930304 not found\n",
      "Trigger 553789309 not found\n",
      "Trigger 558642187 not found\n",
      "Trigger 567431057 not found\n",
      "Trigger 647120007 not found\n",
      "Trigger 687017830 not found\n"
     ]
    }
   ],
   "source": [
    "# #getting data products link from GCN\n",
    "# basepath = \"https://gcn.gsfc.nasa.gov/other/\"\n",
    "# with open(\"u_triggers.txt\", \"a\") as f:\n",
    "#     for trigger in u_triggers:\n",
    "#         try:\n",
    "#             r = requests.get(f\"{basepath}/{trigger}.fermi\")\n",
    "#             url = os.path.dirname(re.search(\"(?P<url>http?://[^\\s]+)\", r.text).group(\"url\"))+\"/\"\n",
    "#             f.write(f\"{url}\\t{trigger}\\n\")\n",
    "#         except:\n",
    "#             print(f\"Trigger {trigger} not found\")\n",
    "#             f.write(f\"{None}\\t{trigger}\\n\")\n",
    "# f.close()"
   ]
  }
 ],
 "metadata": {
  "kernelspec": {
   "display_name": "growth",
   "language": "python",
   "name": "python3"
  },
  "language_info": {
   "codemirror_mode": {
    "name": "ipython",
    "version": 3
   },
   "file_extension": ".py",
   "mimetype": "text/x-python",
   "name": "python",
   "nbconvert_exporter": "python",
   "pygments_lexer": "ipython3",
   "version": "3.6.13"
  },
  "orig_nbformat": 4
 },
 "nbformat": 4,
 "nbformat_minor": 2
}

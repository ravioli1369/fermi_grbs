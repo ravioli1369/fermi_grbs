{
 "cells": [
  {
   "cell_type": "code",
   "execution_count": 13,
   "metadata": {},
   "outputs": [],
   "source": [
    "import re\n",
    "import os\n",
    "import requests\n",
    "import subprocess as sp\n",
    "import pandas as pd\n",
    "import numpy as np\n",
    "import pandas as pd\n",
    "from bs4 import BeautifulSoup"
   ]
  },
  {
   "cell_type": "code",
   "execution_count": 18,
   "metadata": {},
   "outputs": [
    {
     "data": {
      "text/plain": [
       "'bn170101116'"
      ]
     },
     "execution_count": 18,
     "metadata": {},
     "output_type": "execute_result"
    }
   ],
   "source": [
    "df = pd.DataFrame(pd.read_csv(\"u_triggers.csv\"))\n",
    "\n",
    "with open(\"data_status.csv\", \"w\") as f:\n",
    "    os.chdir(\"/home/ravioli/astro/git/fermi_grbs/data/\")\n",
    "    for url in df['url'].values:\n",
    "        grb = url.split(\"/\")[-3]\n",
    "        healpix = f\"{url}glg_healpix_all_{grb}.fit\"\n",
    "        locprob = f\"{url}glg_locprob_all_{grb}.fit\"\n",
    "        r_healpix = os.system(f\"wget {healpix}\")\n",
    "        r_locprob = os.system(f\"wget {locprob}\")\n",
    "        f.write(f\"{grb},{r_healpix},{r_locprob}\\n\")\n",
    "        print(f\"{grb},{r_healpix},{r_locprob}\")\n",
    "f.close()"
   ]
  },
  {
   "cell_type": "code",
   "execution_count": 7,
   "metadata": {},
   "outputs": [],
   "source": [
    "all_triggers = pd.DataFrame(pd.read_csv('all_triggers.csv'))\n",
    "u_triggers = np.unique(all_triggers['TrigNum'].values)\n",
    "not_sure = u_triggers[np.where(u_triggers < 504931642)]\n",
    "u_triggers = u_triggers[np.where(u_triggers >= 504931642)]"
   ]
  },
  {
   "cell_type": "code",
   "execution_count": 8,
   "metadata": {},
   "outputs": [
    {
     "name": "stdout",
     "output_type": "stream",
     "text": [
      "Trigger 508930304 not found\n",
      "Trigger 553789309 not found\n",
      "Trigger 558642187 not found\n",
      "Trigger 567431057 not found\n",
      "Trigger 647120007 not found\n",
      "Trigger 687017830 not found\n"
     ]
    }
   ],
   "source": [
    "basepath = \"https://gcn.gsfc.nasa.gov/other/\"\n",
    "with open(\"u_triggers.txt\", \"a\") as f:\n",
    "    for trigger in u_triggers:\n",
    "        try:\n",
    "            r = requests.get(f\"{basepath}/{trigger}.fermi\")\n",
    "            url = os.path.dirname(re.search(\"(?P<url>http?://[^\\s]+)\", r.text).group(\"url\"))+\"/\"\n",
    "            f.write(f\"{url}\\t{trigger}\\n\")\n",
    "        except:\n",
    "            print(f\"Trigger {trigger} not found\")\n",
    "            f.write(f\"{None}\\t{trigger}\\n\")\n",
    "f.close()"
   ]
  },
  {
   "cell_type": "code",
   "execution_count": 5,
   "metadata": {},
   "outputs": [
    {
     "name": "stdout",
     "output_type": "stream",
     "text": [
      "http://heasarc.gsfc.nasa.gov/FTP/fermi/data/gbm/triggers/2023/bn230811796/quicklook\n"
     ]
    }
   ],
   "source": [
    "r = requests.get(\"https://gcn.gsfc.nasa.gov/other/713473584.fermi\")\n",
    "file = os.path.dirname(re.search(\"(?P<url>http?://[^\\s]+)\", r.text).group(\"url\"))\n",
    "print(file)\n",
    "# print(r.text)"
   ]
  }
 ],
 "metadata": {
  "kernelspec": {
   "display_name": "growth",
   "language": "python",
   "name": "python3"
  },
  "language_info": {
   "codemirror_mode": {
    "name": "ipython",
    "version": 3
   },
   "file_extension": ".py",
   "mimetype": "text/x-python",
   "name": "python",
   "nbconvert_exporter": "python",
   "pygments_lexer": "ipython3",
   "version": "3.6.13"
  },
  "orig_nbformat": 4
 },
 "nbformat": 4,
 "nbformat_minor": 2
}
